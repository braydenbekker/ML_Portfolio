{
 "cells": [
  {
   "cell_type": "markdown",
   "id": "473ad558-58d2-4a0e-a4a6-fa9a08cd0f18",
   "metadata": {},
   "source": [
    "# Chapter 15: Variance Stabilizing Transformations"
   ]
  },
  {
   "cell_type": "markdown",
   "id": "4af50e49-5d06-41df-af9f-c53c53a0ffcb",
   "metadata": {},
   "source": [
    "Notes:\n",
    " - The (residual ~ fitted) plot gives an idea of if the homoscedasticity condition is violated by checking if the variance is constant.\n",
    "Questions:\n",
    " - In the proof of E(h(y)) ≈ h(u) it is clear that E(e)=0, isn't it also true that E(h'(u))=0 because h'(u)=0?"
   ]
  },
  {
   "cell_type": "code",
   "execution_count": null,
   "id": "a5e7c04e-06a0-41ca-a980-06df80f0ec72",
   "metadata": {},
   "outputs": [],
   "source": []
  }
 ],
 "metadata": {
  "kernelspec": {
   "display_name": "R",
   "language": "R",
   "name": "ir"
  },
  "language_info": {
   "codemirror_mode": "r",
   "file_extension": ".r",
   "mimetype": "text/x-r-source",
   "name": "R",
   "pygments_lexer": "r",
   "version": "4.3.2"
  }
 },
 "nbformat": 4,
 "nbformat_minor": 5
}
